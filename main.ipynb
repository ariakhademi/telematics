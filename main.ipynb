{
  "nbformat": 4,
  "nbformat_minor": 0,
  "metadata": {
    "colab": {
      "provenance": [],
      "authorship_tag": "ABX9TyMCbKFvf7Jx9Go2njQ0+DyA",
      "include_colab_link": true
    },
    "kernelspec": {
      "name": "python3",
      "display_name": "Python 3"
    },
    "language_info": {
      "name": "python"
    }
  },
  "cells": [
    {
      "cell_type": "markdown",
      "metadata": {
        "id": "view-in-github",
        "colab_type": "text"
      },
      "source": [
        "<a href=\"https://colab.research.google.com/github/ariakhademi/telematics/blob/main/main.ipynb\" target=\"_parent\"><img src=\"https://colab.research.google.com/assets/colab-badge.svg\" alt=\"Open In Colab\"/></a>"
      ]
    },
    {
      "cell_type": "code",
      "source": [
        "pip install opendatasets"
      ],
      "metadata": {
        "colab": {
          "base_uri": "https://localhost:8080/"
        },
        "id": "20A9AbLhsrgZ",
        "outputId": "14870309-1aed-4851-e513-dd3d751574e4"
      },
      "execution_count": 2,
      "outputs": [
        {
          "output_type": "stream",
          "name": "stdout",
          "text": [
            "Collecting opendatasets\n",
            "  Downloading opendatasets-0.1.22-py3-none-any.whl.metadata (9.2 kB)\n",
            "Requirement already satisfied: tqdm in /usr/local/lib/python3.10/dist-packages (from opendatasets) (4.67.1)\n",
            "Requirement already satisfied: kaggle in /usr/local/lib/python3.10/dist-packages (from opendatasets) (1.6.17)\n",
            "Requirement already satisfied: click in /usr/local/lib/python3.10/dist-packages (from opendatasets) (8.1.7)\n",
            "Requirement already satisfied: six>=1.10 in /usr/local/lib/python3.10/dist-packages (from kaggle->opendatasets) (1.17.0)\n",
            "Requirement already satisfied: certifi>=2023.7.22 in /usr/local/lib/python3.10/dist-packages (from kaggle->opendatasets) (2024.12.14)\n",
            "Requirement already satisfied: python-dateutil in /usr/local/lib/python3.10/dist-packages (from kaggle->opendatasets) (2.8.2)\n",
            "Requirement already satisfied: requests in /usr/local/lib/python3.10/dist-packages (from kaggle->opendatasets) (2.32.3)\n",
            "Requirement already satisfied: python-slugify in /usr/local/lib/python3.10/dist-packages (from kaggle->opendatasets) (8.0.4)\n",
            "Requirement already satisfied: urllib3 in /usr/local/lib/python3.10/dist-packages (from kaggle->opendatasets) (2.2.3)\n",
            "Requirement already satisfied: bleach in /usr/local/lib/python3.10/dist-packages (from kaggle->opendatasets) (6.2.0)\n",
            "Requirement already satisfied: webencodings in /usr/local/lib/python3.10/dist-packages (from bleach->kaggle->opendatasets) (0.5.1)\n",
            "Requirement already satisfied: text-unidecode>=1.3 in /usr/local/lib/python3.10/dist-packages (from python-slugify->kaggle->opendatasets) (1.3)\n",
            "Requirement already satisfied: charset-normalizer<4,>=2 in /usr/local/lib/python3.10/dist-packages (from requests->kaggle->opendatasets) (3.4.0)\n",
            "Requirement already satisfied: idna<4,>=2.5 in /usr/local/lib/python3.10/dist-packages (from requests->kaggle->opendatasets) (3.10)\n",
            "Downloading opendatasets-0.1.22-py3-none-any.whl (15 kB)\n",
            "Installing collected packages: opendatasets\n",
            "Successfully installed opendatasets-0.1.22\n"
          ]
        }
      ]
    },
    {
      "cell_type": "code",
      "execution_count": 8,
      "metadata": {
        "colab": {
          "base_uri": "https://localhost:8080/"
        },
        "id": "-IjCxKZzq7-K",
        "outputId": "da10dc0e-1cbe-42c8-a967-2ed74896a0de"
      },
      "outputs": [
        {
          "output_type": "stream",
          "name": "stdout",
          "text": [
            "Skipping, found downloaded files in \"./levin-vehicle-telematics\" (use force=True to force download)\n"
          ]
        },
        {
          "output_type": "stream",
          "name": "stderr",
          "text": [
            "<ipython-input-8-07865fba3548>:9: DtypeWarning: Columns (3) have mixed types. Specify dtype option on import or set low_memory=False.\n",
            "  df = pd.read_csv(file_path)\n"
          ]
        }
      ],
      "source": [
        "import opendatasets as od\n",
        "import pandas as pd\n",
        "\n",
        "dataset_url = 'https://www.kaggle.com/datasets/yunlevin/levin-vehicle-telematics'\n",
        "od.download(dataset_url)\n",
        "file_path = 'levin-vehicle-telematics/allcars.csv'\n",
        "\n",
        "# Load the dataset into a pandas DataFrame\n",
        "df = pd.read_csv(file_path)"
      ]
    },
    {
      "cell_type": "code",
      "source": [
        "print(df.head(10))"
      ],
      "metadata": {
        "colab": {
          "base_uri": "https://localhost:8080/"
        },
        "id": "j7OTnuWXsmDE",
        "outputId": "40b70047-c2c0-4f54-9ef2-e4a0f150d3c5"
      },
      "execution_count": 9,
      "outputs": [
        {
          "output_type": "stream",
          "name": "stdout",
          "text": [
            "   Unnamed: 0                   timeStamp  tripID  \\\n",
            "0           0  2017-10-31 18:45:59.000000       0   \n",
            "1           1  2017-10-31 18:46:00.000000       0   \n",
            "2           2  2017-10-31 18:46:01.000000       0   \n",
            "3           3  2017-10-31 18:46:02.000000       0   \n",
            "4           4  2017-10-31 18:46:03.000000       0   \n",
            "5           5  2017-10-31 18:46:04.000000       0   \n",
            "6           6  2017-10-31 18:46:05.000000       0   \n",
            "7           7  2017-10-31 18:46:06.000000       0   \n",
            "8           8  2017-10-31 18:46:07.000000       0   \n",
            "9           9  2017-10-31 18:46:08.000000       0   \n",
            "\n",
            "                                             accData  gps_speed  battery  \\\n",
            "0  ffb0fd700220fff43fffe74808e73e03f33400ef33fbe1...        2.2    14.48   \n",
            "1  00b0fda802e804e14104ed3d01ee3a08ec4c04f738fbd5...        3.7    14.48   \n",
            "2  00f0fe5002b0fdea4009e33c01ed3701ec4100f53b05e8...        3.9    14.54   \n",
            "3  0120fdc0028804e03c10de3a09e8400ce43b0ae63b01f4...        3.9    14.56   \n",
            "4  00a0fde802d816e0370ae73604e23b04e53900e542ffea...        4.7    14.48   \n",
            "5  0010fd5802c012e2430e013303ea45fdf03a08e2340be0...        6.7    14.60   \n",
            "6  0090fd58024006fe41fdf34404e43808da3b10df380ae0...        7.9    14.60   \n",
            "7  ff28fdd0027011f4480ee23b10f44710e93e16f33806f3...        6.6    14.56   \n",
            "8  fe28fdc802c013f2370ee43f00fd3f09e3370af44209e1...        4.9    14.64   \n",
            "9  fd08fe0002c81af63817ed390ce6420bf9380be4410ae6...        4.0    14.38   \n",
            "\n",
            "   cTemp  dtc      eLoad  iat  imap  kpl  maf     rpm  speed  tAdv       tPos  \\\n",
            "0    NaN  NaN  44.313725  NaN   NaN  0.0  0.0   903.0    4.0   NaN  15.686275   \n",
            "1    NaN  NaN  35.294118  NaN   NaN  0.0  0.0   938.0    6.0   NaN  15.294118   \n",
            "2    NaN  NaN  29.411765  NaN   NaN  0.0  0.0  1044.5    7.0   NaN  14.901961   \n",
            "3    NaN  NaN  53.725490  NaN   NaN  0.0  0.0  1102.0    7.0   NaN  17.647059   \n",
            "4    NaN  NaN  75.686275  NaN   NaN  0.0  0.0  1626.5   10.0   NaN  23.529412   \n",
            "5    NaN  NaN  51.372549  NaN   NaN  0.0  0.0  2439.5   16.0   NaN  23.529412   \n",
            "6    NaN  NaN   4.313725  NaN   NaN  0.0  0.0  2125.5   15.0   NaN  16.862745   \n",
            "7    NaN  NaN   0.000000  NaN   NaN  0.0  0.0  1533.5   15.0   NaN  15.294118   \n",
            "8    NaN  NaN  25.490196  NaN   NaN  0.0  0.0  1533.5   10.0   NaN  16.470588   \n",
            "9    NaN  NaN  25.490196  NaN   NaN  0.0  0.0  1058.0    8.0   NaN  15.294118   \n",
            "\n",
            "   deviceID  \n",
            "0         1  \n",
            "1         1  \n",
            "2         1  \n",
            "3         1  \n",
            "4         1  \n",
            "5         1  \n",
            "6         1  \n",
            "7         1  \n",
            "8         1  \n",
            "9         1  \n"
          ]
        }
      ]
    },
    {
      "cell_type": "markdown",
      "source": [],
      "metadata": {
        "id": "s5z1_fFivTFQ"
      }
    },
    {
      "cell_type": "markdown",
      "source": [
        "Detect hard brakes"
      ],
      "metadata": {
        "id": "JTCPwsMtvaCa"
      }
    },
    {
      "cell_type": "code",
      "source": [
        "df['timeStamp'] = pd.to_datetime(df['timeStamp'])\n",
        "print(df.head(10))"
      ],
      "metadata": {
        "colab": {
          "base_uri": "https://localhost:8080/"
        },
        "id": "amUhtRcwvcGu",
        "outputId": "afe4959e-0055-4f55-96c3-817b7dac0259"
      },
      "execution_count": 14,
      "outputs": [
        {
          "output_type": "stream",
          "name": "stdout",
          "text": [
            "   Unnamed: 0           timeStamp  tripID  \\\n",
            "0           0 2017-10-31 18:45:59       0   \n",
            "1           1 2017-10-31 18:46:00       0   \n",
            "2           2 2017-10-31 18:46:01       0   \n",
            "3           3 2017-10-31 18:46:02       0   \n",
            "4           4 2017-10-31 18:46:03       0   \n",
            "5           5 2017-10-31 18:46:04       0   \n",
            "6           6 2017-10-31 18:46:05       0   \n",
            "7           7 2017-10-31 18:46:06       0   \n",
            "8           8 2017-10-31 18:46:07       0   \n",
            "9           9 2017-10-31 18:46:08       0   \n",
            "\n",
            "                                             accData  gps_speed  battery  \\\n",
            "0  ffb0fd700220fff43fffe74808e73e03f33400ef33fbe1...        2.2    14.48   \n",
            "1  00b0fda802e804e14104ed3d01ee3a08ec4c04f738fbd5...        3.7    14.48   \n",
            "2  00f0fe5002b0fdea4009e33c01ed3701ec4100f53b05e8...        3.9    14.54   \n",
            "3  0120fdc0028804e03c10de3a09e8400ce43b0ae63b01f4...        3.9    14.56   \n",
            "4  00a0fde802d816e0370ae73604e23b04e53900e542ffea...        4.7    14.48   \n",
            "5  0010fd5802c012e2430e013303ea45fdf03a08e2340be0...        6.7    14.60   \n",
            "6  0090fd58024006fe41fdf34404e43808da3b10df380ae0...        7.9    14.60   \n",
            "7  ff28fdd0027011f4480ee23b10f44710e93e16f33806f3...        6.6    14.56   \n",
            "8  fe28fdc802c013f2370ee43f00fd3f09e3370af44209e1...        4.9    14.64   \n",
            "9  fd08fe0002c81af63817ed390ce6420bf9380be4410ae6...        4.0    14.38   \n",
            "\n",
            "   cTemp  dtc      eLoad  iat  imap  kpl  maf     rpm  speed  tAdv       tPos  \\\n",
            "0    NaN  NaN  44.313725  NaN   NaN  0.0  0.0   903.0    4.0   NaN  15.686275   \n",
            "1    NaN  NaN  35.294118  NaN   NaN  0.0  0.0   938.0    6.0   NaN  15.294118   \n",
            "2    NaN  NaN  29.411765  NaN   NaN  0.0  0.0  1044.5    7.0   NaN  14.901961   \n",
            "3    NaN  NaN  53.725490  NaN   NaN  0.0  0.0  1102.0    7.0   NaN  17.647059   \n",
            "4    NaN  NaN  75.686275  NaN   NaN  0.0  0.0  1626.5   10.0   NaN  23.529412   \n",
            "5    NaN  NaN  51.372549  NaN   NaN  0.0  0.0  2439.5   16.0   NaN  23.529412   \n",
            "6    NaN  NaN   4.313725  NaN   NaN  0.0  0.0  2125.5   15.0   NaN  16.862745   \n",
            "7    NaN  NaN   0.000000  NaN   NaN  0.0  0.0  1533.5   15.0   NaN  15.294118   \n",
            "8    NaN  NaN  25.490196  NaN   NaN  0.0  0.0  1533.5   10.0   NaN  16.470588   \n",
            "9    NaN  NaN  25.490196  NaN   NaN  0.0  0.0  1058.0    8.0   NaN  15.294118   \n",
            "\n",
            "   deviceID  \n",
            "0         1  \n",
            "1         1  \n",
            "2         1  \n",
            "3         1  \n",
            "4         1  \n",
            "5         1  \n",
            "6         1  \n",
            "7         1  \n",
            "8         1  \n",
            "9         1  \n"
          ]
        }
      ]
    },
    {
      "cell_type": "code",
      "source": [
        "acceleration_threshold = 0.5\n",
        "\n",
        "delta_speed = df['speed'].diff()\n",
        "delta_time = df['timeStamp'].diff().dt.total_seconds()\n",
        "acceleration = delta_speed / delta_time\n",
        "df['acceleration'] = acceleration\n",
        "df['hard_brakes'] = (df['acceleration'] < -acceleration_threshold).astype(int)\n",
        "print(df['hard_brakes'].head(10))"
      ],
      "metadata": {
        "colab": {
          "base_uri": "https://localhost:8080/"
        },
        "id": "uASMsgW1xzlS",
        "outputId": "d957f9dd-43fc-46c9-ea76-51ad4c125a77"
      },
      "execution_count": 15,
      "outputs": [
        {
          "output_type": "stream",
          "name": "stdout",
          "text": [
            "0    0\n",
            "1    0\n",
            "2    0\n",
            "3    0\n",
            "4    0\n",
            "5    0\n",
            "6    1\n",
            "7    0\n",
            "8    1\n",
            "9    1\n",
            "Name: hard_brakes, dtype: int64\n"
          ]
        }
      ]
    },
    {
      "cell_type": "code",
      "source": [],
      "metadata": {
        "id": "TcSYuhlTVGNB"
      },
      "execution_count": null,
      "outputs": []
    }
  ]
}