{
  "cells": [
    {
      "cell_type": "markdown",
      "metadata": {
        "id": "view-in-github",
        "colab_type": "text"
      },
      "source": [
        "<a href=\"https://colab.research.google.com/github/ariakhademi/telematics/blob/main/main.ipynb\" target=\"_parent\"><img src=\"https://colab.research.google.com/assets/colab-badge.svg\" alt=\"Open In Colab\"/></a>"
      ]
    },
    {
      "cell_type": "code",
      "execution_count": 3,
      "metadata": {
        "colab": {
          "base_uri": "https://localhost:8080/"
        },
        "id": "20A9AbLhsrgZ",
        "outputId": "5511f3b3-4673-4fe4-b77e-9f05d02a63f0"
      },
      "outputs": [
        {
          "output_type": "stream",
          "name": "stdout",
          "text": [
            "Collecting opendatasets\n",
            "  Downloading opendatasets-0.1.22-py3-none-any.whl.metadata (9.2 kB)\n",
            "Requirement already satisfied: tqdm in /usr/local/lib/python3.10/dist-packages (from opendatasets) (4.67.1)\n",
            "Requirement already satisfied: kaggle in /usr/local/lib/python3.10/dist-packages (from opendatasets) (1.6.17)\n",
            "Requirement already satisfied: click in /usr/local/lib/python3.10/dist-packages (from opendatasets) (8.1.7)\n",
            "Requirement already satisfied: six>=1.10 in /usr/local/lib/python3.10/dist-packages (from kaggle->opendatasets) (1.17.0)\n",
            "Requirement already satisfied: certifi>=2023.7.22 in /usr/local/lib/python3.10/dist-packages (from kaggle->opendatasets) (2024.12.14)\n",
            "Requirement already satisfied: python-dateutil in /usr/local/lib/python3.10/dist-packages (from kaggle->opendatasets) (2.8.2)\n",
            "Requirement already satisfied: requests in /usr/local/lib/python3.10/dist-packages (from kaggle->opendatasets) (2.32.3)\n",
            "Requirement already satisfied: python-slugify in /usr/local/lib/python3.10/dist-packages (from kaggle->opendatasets) (8.0.4)\n",
            "Requirement already satisfied: urllib3 in /usr/local/lib/python3.10/dist-packages (from kaggle->opendatasets) (2.2.3)\n",
            "Requirement already satisfied: bleach in /usr/local/lib/python3.10/dist-packages (from kaggle->opendatasets) (6.2.0)\n",
            "Requirement already satisfied: webencodings in /usr/local/lib/python3.10/dist-packages (from bleach->kaggle->opendatasets) (0.5.1)\n",
            "Requirement already satisfied: text-unidecode>=1.3 in /usr/local/lib/python3.10/dist-packages (from python-slugify->kaggle->opendatasets) (1.3)\n",
            "Requirement already satisfied: charset-normalizer<4,>=2 in /usr/local/lib/python3.10/dist-packages (from requests->kaggle->opendatasets) (3.4.0)\n",
            "Requirement already satisfied: idna<4,>=2.5 in /usr/local/lib/python3.10/dist-packages (from requests->kaggle->opendatasets) (3.10)\n",
            "Downloading opendatasets-0.1.22-py3-none-any.whl (15 kB)\n",
            "Installing collected packages: opendatasets\n",
            "Successfully installed opendatasets-0.1.22\n"
          ]
        }
      ],
      "source": [
        "pip install opendatasets"
      ]
    },
    {
      "cell_type": "code",
      "execution_count": 8,
      "metadata": {
        "id": "kqOVy3p8vTyA"
      },
      "outputs": [],
      "source": [
        "import opendatasets as od\n",
        "import pandas as pd\n",
        "import torch.nn as nn\n",
        "import torch.optim\n",
        "from sklearn.preprocessing import StandardScaler"
      ]
    },
    {
      "cell_type": "code",
      "execution_count": 5,
      "metadata": {
        "colab": {
          "base_uri": "https://localhost:8080/"
        },
        "id": "-IjCxKZzq7-K",
        "outputId": "0870a225-cb44-4c12-cbd5-fed3655a5071"
      },
      "outputs": [
        {
          "output_type": "stream",
          "name": "stdout",
          "text": [
            "Please provide your Kaggle credentials to download this dataset. Learn more: http://bit.ly/kaggle-creds\n",
            "Your Kaggle username: ariakhademi@gmail.com\n",
            "Your Kaggle Key: ··········\n",
            "Dataset URL: https://www.kaggle.com/datasets/yunlevin/levin-vehicle-telematics\n",
            "Downloading levin-vehicle-telematics.zip to ./levin-vehicle-telematics\n"
          ]
        },
        {
          "output_type": "stream",
          "name": "stderr",
          "text": [
            "100%|██████████| 587M/587M [00:10<00:00, 58.2MB/s]\n"
          ]
        },
        {
          "output_type": "stream",
          "name": "stdout",
          "text": [
            "\n"
          ]
        },
        {
          "output_type": "stream",
          "name": "stderr",
          "text": [
            "<ipython-input-5-371d740e4fd4>:5: DtypeWarning: Columns (3) have mixed types. Specify dtype option on import or set low_memory=False.\n",
            "  df = pd.read_csv(file_path)\n"
          ]
        }
      ],
      "source": [
        "# data loading\n",
        "dataset_url = 'https://www.kaggle.com/datasets/yunlevin/levin-vehicle-telematics'\n",
        "od.download(dataset_url)\n",
        "file_path = 'levin-vehicle-telematics/allcars.csv'\n",
        "df = pd.read_csv(file_path)"
      ]
    },
    {
      "cell_type": "markdown",
      "metadata": {
        "id": "JTCPwsMtvaCa"
      },
      "source": [
        "**Detect hard brakes with a threshold**"
      ]
    },
    {
      "cell_type": "code",
      "execution_count": 6,
      "metadata": {
        "colab": {
          "base_uri": "https://localhost:8080/",
          "height": 453
        },
        "id": "uASMsgW1xzlS",
        "outputId": "843314c0-c909-4295-ddff-afdb62bb6141"
      },
      "outputs": [
        {
          "output_type": "execute_result",
          "data": {
            "text/plain": [
              "0          0\n",
              "1          0\n",
              "2          0\n",
              "3          0\n",
              "4          0\n",
              "          ..\n",
              "7214690    0\n",
              "7214691    0\n",
              "7214692    0\n",
              "7214693    0\n",
              "7214694    0\n",
              "Name: hard_brakes, Length: 7214695, dtype: int64"
            ],
            "text/html": [
              "<div>\n",
              "<style scoped>\n",
              "    .dataframe tbody tr th:only-of-type {\n",
              "        vertical-align: middle;\n",
              "    }\n",
              "\n",
              "    .dataframe tbody tr th {\n",
              "        vertical-align: top;\n",
              "    }\n",
              "\n",
              "    .dataframe thead th {\n",
              "        text-align: right;\n",
              "    }\n",
              "</style>\n",
              "<table border=\"1\" class=\"dataframe\">\n",
              "  <thead>\n",
              "    <tr style=\"text-align: right;\">\n",
              "      <th></th>\n",
              "      <th>hard_brakes</th>\n",
              "    </tr>\n",
              "  </thead>\n",
              "  <tbody>\n",
              "    <tr>\n",
              "      <th>0</th>\n",
              "      <td>0</td>\n",
              "    </tr>\n",
              "    <tr>\n",
              "      <th>1</th>\n",
              "      <td>0</td>\n",
              "    </tr>\n",
              "    <tr>\n",
              "      <th>2</th>\n",
              "      <td>0</td>\n",
              "    </tr>\n",
              "    <tr>\n",
              "      <th>3</th>\n",
              "      <td>0</td>\n",
              "    </tr>\n",
              "    <tr>\n",
              "      <th>4</th>\n",
              "      <td>0</td>\n",
              "    </tr>\n",
              "    <tr>\n",
              "      <th>...</th>\n",
              "      <td>...</td>\n",
              "    </tr>\n",
              "    <tr>\n",
              "      <th>7214690</th>\n",
              "      <td>0</td>\n",
              "    </tr>\n",
              "    <tr>\n",
              "      <th>7214691</th>\n",
              "      <td>0</td>\n",
              "    </tr>\n",
              "    <tr>\n",
              "      <th>7214692</th>\n",
              "      <td>0</td>\n",
              "    </tr>\n",
              "    <tr>\n",
              "      <th>7214693</th>\n",
              "      <td>0</td>\n",
              "    </tr>\n",
              "    <tr>\n",
              "      <th>7214694</th>\n",
              "      <td>0</td>\n",
              "    </tr>\n",
              "  </tbody>\n",
              "</table>\n",
              "<p>7214695 rows × 1 columns</p>\n",
              "</div><br><label><b>dtype:</b> int64</label>"
            ]
          },
          "metadata": {},
          "execution_count": 6
        }
      ],
      "source": [
        "# constants\n",
        "acceleration_threshold = 0.5\n",
        "\n",
        "# data preprocessing\n",
        "df['timeStamp'] = pd.to_datetime(df['timeStamp'])\n",
        "delta_speed = df['speed'].diff()\n",
        "delta_time = df['timeStamp'].diff().dt.total_seconds()\n",
        "acceleration = delta_speed / delta_time\n",
        "df['acceleration'] = acceleration\n",
        "\n",
        "# detect hard brakes\n",
        "df['hard_brakes'] = (df['acceleration'] < -acceleration_threshold).astype(int)\n",
        "df['hard_brakes']"
      ]
    },
    {
      "cell_type": "markdown",
      "metadata": {
        "id": "AA-PgaPrvTyC"
      },
      "source": [
        "**Detect hard brakes with machine learning**"
      ]
    },
    {
      "cell_type": "code",
      "execution_count": 12,
      "metadata": {
        "id": "sMl5aKKivTyD"
      },
      "outputs": [],
      "source": [
        "# data preprocessing\n",
        "df = df[:10000]\n",
        "df['timeStamp'] = pd.to_datetime(df['timeStamp'])\n",
        "delta_speed = df['speed'].diff()\n",
        "delta_time = df['timeStamp'].diff().dt.total_seconds()\n",
        "acceleration = delta_speed / delta_time\n",
        "df['acceleration'] = acceleration\n",
        "scaler = StandardScaler()\n",
        "df[['speed', 'acceleration']] = scaler.fit_transform(df[['speed', 'acceleration']])\n",
        "\n",
        "# create sequences\n",
        "seq_length = 10\n",
        "input_sequence = []\n",
        "for i in range(len(df) - seq_length):\n",
        "    input_sequence.append(df[['speed', 'acceleration']].iloc[i:i+seq_length].values)\n",
        "# sequence_input, e.g. = [[[1,2],[3,4],...,[x,y]],[[6,7],[8,9],...,[a,b]],...]\n",
        "input_tensor = torch.tensor(input_sequence) # convert to tensor\n",
        "dataset = torch.utils.data.TensorDataset(input_tensor, input_tensor)  # for auto encoder\n",
        "dataloader = torch.utils.data.DataLoader(dataset, batch_size=10, shuffle=True)"
      ]
    },
    {
      "cell_type": "code",
      "execution_count": null,
      "metadata": {
        "id": "BZ4TzHgGvTyD"
      },
      "outputs": [],
      "source": [
        "# hyperparams\n",
        "input_size = len(features)\n",
        "encoded_size = 8\n",
        "lr = 0.01\n",
        "num_epochs = 10\n",
        "\n",
        "class AutoEncoder(nn.Module):\n",
        "    def __init__(self,input_size,encoded_size):\n",
        "        super(self).__init__()\n",
        "\n",
        "        # encoder\n",
        "        encoder = nn.Sequential(\n",
        "            nn.Linear(input_size,encoded_size),\n",
        "            nn.ReLU()\n",
        "        )\n",
        "\n",
        "        # decoder\n",
        "        decoder = nn.Sequential(\n",
        "            nn.Linear(encoded_size,input_size),\n",
        "            nn.ReLU()\n",
        "        )\n",
        "\n",
        "    def forward(self, x):\n",
        "        return self.decoder(self.encoder(x))\n",
        "\n",
        "# model, loss, optimizer\n",
        "model = AutoEncoder(input_size,encoded_size)\n",
        "loss_fn = nn.MSELoss()\n",
        "optim = torch.optim.Adam(params=model.parameters(), lr=lr)"
      ]
    },
    {
      "cell_type": "code",
      "execution_count": null,
      "metadata": {
        "id": "YGWROJwWvTyD"
      },
      "outputs": [],
      "source": [
        "torch.manual_seed(42)\n",
        "\n",
        "# training\n",
        "for epoch in range(num_epochs):\n",
        "    model.train()\n",
        "    for input,_ in dataloader:\n",
        "      optim.zero_grad()\n",
        "      output = model(input)\n",
        "      loss = loss_fn(output,input)\n",
        "      loss.backward()\n",
        "      optim.step()"
      ]
    },
    {
      "cell_type": "code",
      "source": [
        "# function for hard brakes\n",
        "def hard_brakes(model, input):\n",
        "    with torch.inference_mode():\n",
        "        model.eval()\n",
        "        output = model(input)\n",
        "        err = torch.mean(output - input)\n",
        "        anomaly = err > acceleration_threshold"
      ],
      "metadata": {
        "id": "EgY7biT21NJW"
      },
      "execution_count": null,
      "outputs": []
    }
  ],
  "metadata": {
    "colab": {
      "provenance": [],
      "include_colab_link": true
    },
    "kernelspec": {
      "display_name": "Python 3",
      "name": "python3"
    },
    "language_info": {
      "codemirror_mode": {
        "name": "ipython",
        "version": 3
      },
      "file_extension": ".py",
      "mimetype": "text/x-python",
      "name": "python",
      "nbconvert_exporter": "python",
      "pygments_lexer": "ipython3",
      "version": "3.8.8"
    }
  },
  "nbformat": 4,
  "nbformat_minor": 0
}